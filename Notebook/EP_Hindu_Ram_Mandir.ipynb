{
 "cells": [
  {
   "cell_type": "markdown",
   "id": "8a997a63",
   "metadata": {},
   "source": [
    "Hindu voters tend to vote for the BJP due to its stance on the construction of Ram Mandir in Ayodhya."
   ]
  },
  {
   "cell_type": "code",
   "execution_count": 1,
   "id": "cf3b793a",
   "metadata": {
    "scrolled": true
   },
   "outputs": [
    {
     "name": "stdout",
     "output_type": "stream",
     "text": [
      "C:\\Users\\prave\\Desktop\\Project\\Survey\n"
     ]
    }
   ],
   "source": [
    "cd \"C:\\Users\\prave\\Desktop\\Project\\Survey\""
   ]
  },
  {
   "cell_type": "code",
   "execution_count": 2,
   "id": "19e4d8dd",
   "metadata": {},
   "outputs": [],
   "source": [
    "# Import necessary libraries\n",
    "import pandas as pd\n",
    "from sklearn.metrics import accuracy_score\n",
    "from collections import Counter\n",
    "import matplotlib.pyplot as plt"
   ]
  },
  {
   "cell_type": "code",
   "execution_count": 3,
   "id": "a33285d9",
   "metadata": {},
   "outputs": [],
   "source": [
    "# Create a DataFrame with your data\n",
    "data = pd.read_excel(\"EP_data.xlsx\", sheet_name=\"Train_data\")\n",
    "#data=data[data['Religion']==\"Hindu\"]\n",
    "data_test=pd.read_excel(\"EP_data.xlsx\", sheet_name=\"Test_data1\")\n",
    "#data_test=data_test[data_test['Religion']==\"Hindu\"]"
   ]
  },
  {
   "cell_type": "code",
   "execution_count": 4,
   "id": "3c49547d",
   "metadata": {},
   "outputs": [],
   "source": [
    "# Define features and target\n",
    "features_train = data[['Hindu','Happy with Ram Mandir1','HINDU RASHTRA1','Vote based on Ram Mandir1','Last Vote1']]\n",
    "target_train = data['Vote']\n",
    "\n",
    "# Test\n",
    "features_test = data_test[['Hindu','Happy with Ram Mandir1','HINDU RASHTRA1','Vote based on Ram Mandir1','Last Vote1']]\n",
    "target_test = data_test['Vote']"
   ]
  },
  {
   "cell_type": "code",
   "execution_count": 5,
   "id": "7a12d3c1",
   "metadata": {},
   "outputs": [],
   "source": [
    "# Split the data into training and test sets\n",
    "#features_train, features_test, target_train, target_test = train_test_split(features, target, test_size=0.2, random_state=42)"
   ]
  },
  {
   "cell_type": "code",
   "execution_count": 27,
   "id": "bf8fb8d3",
   "metadata": {},
   "outputs": [
    {
     "name": "stdout",
     "output_type": "stream",
     "text": [
      "['Congress' 'BJP / JDS' 'BJP / JDS' 'Congress' 'Congress' 'BJP / JDS'\n",
      " 'Congress' 'Congress' 'BJP / JDS' 'Congress' 'Congress' 'Congress'\n",
      " 'BJP / JDS' 'Congress' 'Congress' 'Congress' 'Congress' 'Congress'\n",
      " 'Congress' 'Congress' 'BJP / JDS' 'Congress' 'Congress' 'Congress'\n",
      " 'Congress' 'BJP / JDS' 'BJP / JDS' 'Congress' 'Congress' 'Congress'\n",
      " 'Congress' 'Congress' 'Congress' 'Congress' 'Congress' 'Congress'\n",
      " 'Congress' 'Congress' 'Congress' 'Congress' 'BJP / JDS' 'Congress'\n",
      " 'BJP / JDS' 'BJP / JDS' 'Congress' 'Congress' 'BJP / JDS' 'BJP / JDS'\n",
      " 'Congress' 'Congress' 'BJP / JDS' 'BJP / JDS' 'BJP / JDS' 'Congress'\n",
      " 'Congress' 'Congress' 'Congress' 'Congress' 'Congress' 'Congress'\n",
      " 'Congress' 'Congress' 'Congress' 'Congress' 'Congress' 'Congress'\n",
      " 'Congress' 'Congress' 'BJP / JDS' 'Congress' 'Congress' 'Congress'\n",
      " 'Congress' 'Congress' 'Congress' 'Congress' 'Congress' 'Congress'\n",
      " 'Congress' 'Congress' 'Congress' 'Congress' 'BJP / JDS' 'Congress'\n",
      " 'BJP / JDS' 'Congress']\n",
      "The accuracy of the Logistic Regression model is 62.7906976744186%.\n"
     ]
    }
   ],
   "source": [
    "# Initialize the Logistic Regression model\n",
    "from sklearn.linear_model import LogisticRegression\n",
    "model = LogisticRegression()\n",
    "\n",
    "# Train the model\n",
    "Ram_LR=model.fit(features_train, target_train)\n",
    "\n",
    "# Make predictions\n",
    "predictions = model.predict(features_test)\n",
    "\n",
    "print(predictions )\n",
    "Counter(predictions)\n",
    "\n",
    "# Calculate the accuracy of the model\n",
    "accuracy = accuracy_score(target_test, predictions)\n",
    "\n",
    "# Print the accuracy\n",
    "print(f\"The accuracy of the Logistic Regression model is {accuracy * 100}%.\")"
   ]
  },
  {
   "cell_type": "code",
   "execution_count": 17,
   "id": "383fa0af",
   "metadata": {},
   "outputs": [
    {
     "name": "stdout",
     "output_type": "stream",
     "text": [
      "Accuracy of RandomForest is 72.09302325581395%.\n"
     ]
    },
    {
     "data": {
      "text/plain": [
       "Counter({'Congress': 64, 'BJP / JDS': 19, 'Other': 3})"
      ]
     },
     "execution_count": 17,
     "metadata": {},
     "output_type": "execute_result"
    }
   ],
   "source": [
    "from sklearn.ensemble import RandomForestClassifier\n",
    "# Create a Random Forest Classifier object\n",
    "clf = RandomForestClassifier(n_estimators=100)\n",
    "\n",
    "# Train the Random Forest Classifier\n",
    "Ram_Ran = clf.fit(features_train,target_train)\n",
    "\n",
    "# Predict the response for the test dataset\n",
    "target_pred = clf.predict(features_test)\n",
    "# Calculate the accuracy of the model\n",
    "accuracy = accuracy_score(target_test, target_pred)\n",
    "\n",
    "# Print the accuracy\n",
    "print(f\"Accuracy of RandomForest is {accuracy * 100}%.\")\n",
    "Counter(target_pred)"
   ]
  },
  {
   "cell_type": "code",
   "execution_count": 20,
   "id": "f781fdf6",
   "metadata": {},
   "outputs": [
    {
     "name": "stdout",
     "output_type": "stream",
     "text": [
      "Accuracy of DecisionTree classification is 69.76744186046511%.\n"
     ]
    },
    {
     "data": {
      "text/plain": [
       "Counter({'Congress': 59, 'BJP / JDS': 23, 'Other': 4})"
      ]
     },
     "execution_count": 20,
     "metadata": {},
     "output_type": "execute_result"
    }
   ],
   "source": [
    "from sklearn.tree import DecisionTreeClassifier\n",
    "# Create a Decision Tree Classifier object\n",
    "dtree = DecisionTreeClassifier()\n",
    "\n",
    "# Train the Decision Tree Classifier\n",
    "Ram_tree=dtree.fit(features_train, target_train)\n",
    "\n",
    "# Predict the response for the test dataset\n",
    "target_pred = dtree.predict(features_test)\n",
    "# Calculate the accuracy of the model\n",
    "accuracy = accuracy_score(target_test, target_pred)\n",
    "\n",
    "# Print the accuracy\n",
    "print(f\"Accuracy of DecisionTree classification is {accuracy * 100}%.\")\n",
    "Counter(target_pred)"
   ]
  },
  {
   "cell_type": "code",
   "execution_count": 28,
   "id": "940c1a59",
   "metadata": {},
   "outputs": [],
   "source": [
    "import pickle\n",
    "pickle_out=open(\"Ram_LR.pkl\",\"wb\")\n",
    "pickle.dump(Ram_LR,pickle_out)"
   ]
  },
  {
   "cell_type": "code",
   "execution_count": null,
   "id": "908b90cc",
   "metadata": {},
   "outputs": [],
   "source": []
  }
 ],
 "metadata": {
  "kernelspec": {
   "display_name": "Python 3 (ipykernel)",
   "language": "python",
   "name": "python3"
  },
  "language_info": {
   "codemirror_mode": {
    "name": "ipython",
    "version": 3
   },
   "file_extension": ".py",
   "mimetype": "text/x-python",
   "name": "python",
   "nbconvert_exporter": "python",
   "pygments_lexer": "ipython3",
   "version": "3.11.5"
  }
 },
 "nbformat": 4,
 "nbformat_minor": 5
}
