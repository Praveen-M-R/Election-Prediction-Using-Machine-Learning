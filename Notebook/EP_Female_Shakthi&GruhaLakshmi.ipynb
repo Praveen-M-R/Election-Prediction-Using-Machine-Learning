{
 "cells": [
  {
   "cell_type": "code",
   "execution_count": 21,
   "id": "f55bd760",
   "metadata": {},
   "outputs": [
    {
     "name": "stdout",
     "output_type": "stream",
     "text": [
      "C:\\Users\\prave\\Desktop\\Project\\Survey\n"
     ]
    }
   ],
   "source": [
    "cd \"C:\\Users\\prave\\Desktop\\Project\\Survey\""
   ]
  },
  {
   "cell_type": "markdown",
   "id": "3e9f18ac",
   "metadata": {},
   "source": [
    "##Female voters prefer the congress party due to its focus on women-centric schemes like shakti and Gruha Lakshmi.##"
   ]
  },
  {
   "cell_type": "code",
   "execution_count": 28,
   "id": "1b2c4c2b",
   "metadata": {},
   "outputs": [],
   "source": [
    "# Import necessary libraries\n",
    "from sklearn.metrics import accuracy_score\n",
    "from collections import Counter\n",
    "import pandas as pd"
   ]
  },
  {
   "cell_type": "code",
   "execution_count": 29,
   "id": "4215c353",
   "metadata": {},
   "outputs": [],
   "source": [
    "# Create a DataFrame with your data\n",
    "data = pd.read_excel(\"EP_data.xlsx\", sheet_name=\"Train_data\")\n",
    "data=data[data['Gender']==\"Female\"]\n",
    "data_test=pd.read_excel(\"EP_data.xlsx\", sheet_name=\"Test_data1\")\n",
    "data_test=data_test[data_test['Gender']==\"Female\"]"
   ]
  },
  {
   "cell_type": "code",
   "execution_count": 30,
   "id": "f5589238",
   "metadata": {},
   "outputs": [],
   "source": [
    "# Define features and target\n",
    "features_train = data[['Gruha lakshmi0','Gruha Lakshmi1','Shakthi0', 'Shakti1','Vote based on Guarantee1','Last Vote1']]\n",
    "target_train = data['Vote']\n",
    "features_test=data_test[['Gruha lakshmi0','Gruha Lakshmi1','Shakthi0', 'Shakti1','Vote based on Guarantee1','Last Vote1']]\n",
    "target_test=data_test['Vote']"
   ]
  },
  {
   "cell_type": "code",
   "execution_count": 52,
   "id": "e28ad593",
   "metadata": {},
   "outputs": [
    {
     "name": "stdout",
     "output_type": "stream",
     "text": [
      "The accuracy of the Logistic Regression model is 68.42105263157895%.\n",
      "Congress: 100.00%\n"
     ]
    }
   ],
   "source": [
    "# Initialize the Logistic Regression model\n",
    "from sklearn.linear_model import LogisticRegression\n",
    "model = LogisticRegression()\n",
    "\n",
    "# Train the model\n",
    "fe_gurantee_LR=model.fit(features_train, target_train)\n",
    "\n",
    "# Make predictions\n",
    "predictions = model.predict(features_test)\n",
    "\n",
    "# Calculate the accuracy of the model\n",
    "accuracy = accuracy_score(target_test, predictions)\n",
    "\n",
    "# Print the accuracy\n",
    "print(f\"The accuracy of the Logistic Regression model is {accuracy * 100}%.\")\n",
    "# Calculate counts\n",
    "result_counts = Counter(predictions)\n",
    "\n",
    "# Compute total count\n",
    "total_count = sum(result_counts.values())\n",
    "\n",
    "# Calculate percentages\n",
    "result_percentages = {result: (count / total_count) * 100 for result, count in result_counts.items()}\n",
    "# Display percentages\n",
    "for result, percentage in result_percentages.items():\n",
    "    print(f\"{result}: {percentage:.2f}%\")"
   ]
  },
  {
   "cell_type": "code",
   "execution_count": 47,
   "id": "2f547bf3",
   "metadata": {},
   "outputs": [
    {
     "name": "stdout",
     "output_type": "stream",
     "text": [
      "Accuracy of DecisionTree classification is 84.21052631578947%.\n",
      "Congress: 68.42%\n",
      "BJP / JDS: 31.58%\n"
     ]
    }
   ],
   "source": [
    "from sklearn.tree import DecisionTreeClassifier\n",
    "# Create a Decision Tree Classifier object\n",
    "dtree = DecisionTreeClassifier()\n",
    "\n",
    "# Train the Decision Tree Classifier\n",
    "fe_gurantee_tree=dtree.fit(features_train, target_train)\n",
    "\n",
    "# Predict the response for the test dataset\n",
    "target_pred = dtree.predict(features_test)\n",
    "# Calculate the accuracy of the model\n",
    "accuracy = accuracy_score(target_test, target_pred)\n",
    "\n",
    "# Print the accuracy\n",
    "print(f\"Accuracy of DecisionTree classification is {accuracy * 100}%.\")\n",
    "# Calculate counts\n",
    "result_counts = Counter(target_pred)\n",
    "\n",
    "# Compute total count\n",
    "total_count = sum(result_counts.values())\n",
    "\n",
    "# Calculate percentages\n",
    "result_percentages = {result: (count / total_count) * 100 for result, count in result_counts.items()}\n",
    "# Display percentages\n",
    "for result, percentage in result_percentages.items():\n",
    "    print(f\"{result}: {percentage:.2f}%\")"
   ]
  },
  {
   "cell_type": "code",
   "execution_count": 48,
   "id": "50453021",
   "metadata": {},
   "outputs": [
    {
     "name": "stdout",
     "output_type": "stream",
     "text": [
      "-------->Accuracy of RandomForest is 86.8421052631579%.\n",
      "Congress: 81.58%\n",
      "BJP / JDS: 18.42%\n"
     ]
    }
   ],
   "source": [
    "from sklearn.ensemble import RandomForestClassifier\n",
    "# Create a Random Forest Classifier object\n",
    "clf = RandomForestClassifier(n_estimators=100)\n",
    "\n",
    "# Train the Random Forest Classifier\n",
    "fe_gurantee_ran = clf.fit(features_train,target_train)\n",
    "\n",
    "# Predict the response for the test dataset\n",
    "target_pred = clf.predict(features_test)\n",
    "# Calculate the accuracy of the model\n",
    "accuracy = accuracy_score(target_test, target_pred)\n",
    "\n",
    "# Print the accuracy\n",
    "print(f\"-------->Accuracy of RandomForest is {accuracy * 100}%.\")\n",
    "\n",
    "# Calculate counts\n",
    "result_counts = Counter(target_pred)\n",
    "\n",
    "# Compute total count\n",
    "total_count = sum(result_counts.values())\n",
    "\n",
    "# Calculate percentages\n",
    "result_percentages = {result: (count / total_count) * 100 for result, count in result_counts.items()}\n",
    "# Display percentages\n",
    "for result, percentage in result_percentages.items():\n",
    "    print(f\"{result}: {percentage:.2f}%\")"
   ]
  },
  {
   "cell_type": "code",
   "execution_count": 53,
   "id": "f27e0fed",
   "metadata": {},
   "outputs": [],
   "source": [
    "import pickle\n",
    "pickle_out=open(\"fe_gurantee_LR.pkl\",\"wb\")\n",
    "pickle.dump(fe_gurantee_LR,pickle_out)"
   ]
  },
  {
   "cell_type": "code",
   "execution_count": null,
   "id": "2089b2cc",
   "metadata": {},
   "outputs": [],
   "source": []
  }
 ],
 "metadata": {
  "kernelspec": {
   "display_name": "Python 3 (ipykernel)",
   "language": "python",
   "name": "python3"
  },
  "language_info": {
   "codemirror_mode": {
    "name": "ipython",
    "version": 3
   },
   "file_extension": ".py",
   "mimetype": "text/x-python",
   "name": "python",
   "nbconvert_exporter": "python",
   "pygments_lexer": "ipython3",
   "version": "3.11.5"
  }
 },
 "nbformat": 4,
 "nbformat_minor": 5
}
