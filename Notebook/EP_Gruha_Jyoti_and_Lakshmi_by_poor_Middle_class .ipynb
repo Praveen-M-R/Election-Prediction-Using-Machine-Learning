{
 "cells": [
  {
   "cell_type": "markdown",
   "id": "8b3cb2a2",
   "metadata": {},
   "source": [
    "poor and middle-class families like Gruha Jyoti and Gruha Lakshmi scheme and influence their voting decisions"
   ]
  },
  {
   "cell_type": "code",
   "execution_count": 1,
   "id": "9357f981",
   "metadata": {},
   "outputs": [
    {
     "name": "stdout",
     "output_type": "stream",
     "text": [
      "C:\\Users\\prave\\Desktop\\Project\\Survey\n"
     ]
    }
   ],
   "source": [
    "cd \"C:\\Users\\prave\\Desktop\\Project\\Survey\""
   ]
  },
  {
   "cell_type": "code",
   "execution_count": 2,
   "id": "717e4155",
   "metadata": {},
   "outputs": [],
   "source": [
    "# Import necessary libraries\n",
    "import pandas as pd\n",
    "from sklearn.metrics import accuracy_score\n",
    "from collections import Counter\n",
    "import matplotlib.pyplot as plt"
   ]
  },
  {
   "cell_type": "code",
   "execution_count": 3,
   "id": "8ba52fbb",
   "metadata": {},
   "outputs": [],
   "source": [
    "#  Create a DataFrame with your data\n",
    "data = pd.read_excel(\"EP_data.xlsx\", sheet_name=\"Train_data\")\n",
    "values=('Less than ₹20,000','₹20,000 - ₹99,999')\n",
    "data = data[data['Monthly Income'].isin(values)]\n",
    "data_test=pd.read_excel(\"EP_data.xlsx\", sheet_name=\"Test_data1\")\n",
    "data_test = data_test[data_test['Monthly Income'].isin(values)]"
   ]
  },
  {
   "cell_type": "code",
   "execution_count": 4,
   "id": "3c49547d",
   "metadata": {},
   "outputs": [],
   "source": [
    "# Define features and target\n",
    "features_train = data[['Monthly Income1','Gruha lakshmi0','Gruha Lakshmi1','Gruha jyothi0','Gruha jyothi1','Vote based on Guarantee1','Last Vote1']]\n",
    "target_train = data['Vote']\n",
    "features_test = data_test[['Monthly Income1','Gruha lakshmi0','Gruha Lakshmi1','Gruha jyothi0','Gruha jyothi1','Vote based on Guarantee1','Last Vote1']]\n",
    "target_test = data_test['Vote']"
   ]
  },
  {
   "cell_type": "code",
   "execution_count": 20,
   "id": "7cf8ebb2",
   "metadata": {},
   "outputs": [
    {
     "name": "stdout",
     "output_type": "stream",
     "text": [
      "['Congress' 'Congress' 'Congress' 'Congress' 'Congress' 'Congress'\n",
      " 'Congress' 'BJP / JDS' 'Congress' 'Congress' 'Congress' 'Congress'\n",
      " 'Congress' 'Congress' 'Congress' 'Congress' 'Congress' 'Congress'\n",
      " 'Congress' 'Congress' 'Congress' 'Congress' 'Congress' 'Congress'\n",
      " 'Congress' 'Congress' 'Congress' 'BJP / JDS' 'Congress' 'Congress'\n",
      " 'Congress' 'Congress' 'Congress' 'Congress' 'BJP / JDS' 'Congress'\n",
      " 'Congress' 'BJP / JDS' 'Congress' 'Congress' 'Congress' 'Congress'\n",
      " 'Congress' 'Congress' 'Congress' 'Congress' 'Congress' 'Congress'\n",
      " 'Congress' 'Congress' 'Congress' 'Congress' 'BJP / JDS' 'Congress'\n",
      " 'Congress' 'Congress' 'Congress' 'Congress' 'Congress' 'Congress'\n",
      " 'Congress' 'Congress' 'Congress' 'Congress' 'Congress' 'Congress'\n",
      " 'Congress' 'Congress' 'Congress' 'Congress' 'Congress' 'Congress'\n",
      " 'Congress' 'Congress' 'Congress' 'Congress' 'Congress' 'Congress'\n",
      " 'Congress' 'Congress' 'BJP / JDS' 'Congress' 'Congress' 'BJP / JDS']\n",
      "The accuracy of the Logistic Regression model is 61.904761904761905%.\n"
     ]
    }
   ],
   "source": [
    "# Initialize the Logistic Regression model\n",
    "from sklearn.linear_model import LogisticRegression\n",
    "model = LogisticRegression()\n",
    "\n",
    "# Train the model\n",
    "MP_Guarantee_LR=model.fit(features_train, target_train)\n",
    "\n",
    "# Make predictions\n",
    "predictions = model.predict(features_test)\n",
    "\n",
    "print(predictions )\n",
    "Counter(predictions)\n",
    "\n",
    "# Calculate the accuracy of the model\n",
    "accuracy = accuracy_score(target_test, predictions)\n",
    "\n",
    "# Print the accuracy\n",
    "print(f\"The accuracy of the Logistic Regression model is {accuracy * 100}%.\")"
   ]
  },
  {
   "cell_type": "code",
   "execution_count": 16,
   "id": "58acfbc0",
   "metadata": {},
   "outputs": [
    {
     "name": "stdout",
     "output_type": "stream",
     "text": [
      "Accuracy of DecisionTree classification is 67.85714285714286%.\n"
     ]
    },
    {
     "data": {
      "text/plain": [
       "Counter({'Congress': 42, 'BJP / JDS': 36, 'Other': 6})"
      ]
     },
     "execution_count": 16,
     "metadata": {},
     "output_type": "execute_result"
    }
   ],
   "source": [
    "from sklearn.tree import DecisionTreeClassifier\n",
    "# Create a Decision Tree Classifier object\n",
    "dtree = DecisionTreeClassifier()\n",
    "\n",
    "# Train the Decision Tree Classifier\n",
    "MP_Guarantee_tree=dtree.fit(features_train, target_train)\n",
    "\n",
    "# Predict the response for the test dataset\n",
    "target_pred = dtree.predict(features_test)\n",
    "# Calculate the accuracy of the model\n",
    "accuracy = accuracy_score(target_test, target_pred)\n",
    "\n",
    "# Print the accuracy\n",
    "print(f\"Accuracy of DecisionTree classification is {accuracy * 100}%.\")\n",
    "Counter(target_pred)"
   ]
  },
  {
   "cell_type": "code",
   "execution_count": 12,
   "id": "fcd8ee39",
   "metadata": {},
   "outputs": [
    {
     "name": "stdout",
     "output_type": "stream",
     "text": [
      "['BJP / JDS' 'Other' 'Congress' 'Congress' 'Other' 'Congress' 'Congress'\n",
      " 'Congress' 'Congress' 'BJP / JDS' 'Congress' 'Congress' 'BJP / JDS'\n",
      " 'Congress' 'Congress' 'Congress' 'Congress' 'Congress' 'Congress'\n",
      " 'Congress' 'Congress' 'BJP / JDS' 'BJP / JDS' 'Congress' 'Congress'\n",
      " 'Congress' 'Congress' 'BJP / JDS' 'Congress' 'Congress' 'Congress'\n",
      " 'BJP / JDS' 'BJP / JDS' 'BJP / JDS' 'BJP / JDS' 'Congress' 'Congress'\n",
      " 'Congress' 'Congress' 'Other' 'Congress' 'Congress' 'BJP / JDS'\n",
      " 'BJP / JDS' 'Other' 'BJP / JDS' 'Congress' 'Congress' 'Congress'\n",
      " 'Congress' 'Congress' 'Congress' 'Congress' 'Congress' 'Congress'\n",
      " 'Congress' 'Congress' 'Congress' 'Congress' 'Congress' 'BJP / JDS'\n",
      " 'BJP / JDS' 'Congress' 'BJP / JDS' 'Congress' 'Congress' 'Congress'\n",
      " 'Congress' 'BJP / JDS' 'Congress' 'Congress' 'Congress' 'BJP / JDS'\n",
      " 'Other' 'Congress' 'Congress' 'Congress' 'BJP / JDS' 'Congress'\n",
      " 'Congress' 'BJP / JDS' 'Other' 'BJP / JDS' 'BJP / JDS']\n",
      "-------->Accuracy of RandomForest is 75.0%.\n"
     ]
    },
    {
     "data": {
      "text/plain": [
       "Counter({'Congress': 56, 'BJP / JDS': 22, 'Other': 6})"
      ]
     },
     "execution_count": 12,
     "metadata": {},
     "output_type": "execute_result"
    }
   ],
   "source": [
    "from sklearn.ensemble import RandomForestClassifier\n",
    "# Create a Random Forest Classifier object\n",
    "clf = RandomForestClassifier(n_estimators=100)\n",
    "\n",
    "# Train the Random Forest Classifier\n",
    "MP_Guarantee_ran = clf.fit(features_train,target_train)\n",
    "\n",
    "# Predict the response for the test dataset\n",
    "target_pred = clf.predict(features_test)\n",
    "print(target_pred)\n",
    "# Calculate the accuracy of the model\n",
    "accuracy = accuracy_score(target_test, target_pred)\n",
    "\n",
    "# Print the accuracy\n",
    "print(f\"-------->Accuracy of RandomForest is {accuracy * 100}%.\")\n",
    "Counter(target_pred)"
   ]
  },
  {
   "cell_type": "code",
   "execution_count": 22,
   "id": "72a6ed8a",
   "metadata": {},
   "outputs": [],
   "source": [
    "import pickle\n",
    "pickle_out=open(\"MP_Guarantee_LR.pkl\",\"wb\")\n",
    "pickle.dump(MP_Guarantee_LR,pickle_out)"
   ]
  },
  {
   "cell_type": "code",
   "execution_count": null,
   "id": "c5ad8fa8",
   "metadata": {},
   "outputs": [],
   "source": []
  },
  {
   "cell_type": "code",
   "execution_count": null,
   "id": "39d470d1",
   "metadata": {},
   "outputs": [],
   "source": []
  }
 ],
 "metadata": {
  "kernelspec": {
   "display_name": "Python 3 (ipykernel)",
   "language": "python",
   "name": "python3"
  },
  "language_info": {
   "codemirror_mode": {
    "name": "ipython",
    "version": 3
   },
   "file_extension": ".py",
   "mimetype": "text/x-python",
   "name": "python",
   "nbconvert_exporter": "python",
   "pygments_lexer": "ipython3",
   "version": "3.11.5"
  }
 },
 "nbformat": 4,
 "nbformat_minor": 5
}
