{
 "cells": [
  {
   "cell_type": "markdown",
   "id": "ce352829",
   "metadata": {},
   "source": [
    "Youth voters are inclined to support the BJP due to its positions on foreign policy decisions and international relations."
   ]
  },
  {
   "cell_type": "code",
   "execution_count": 131,
   "id": "9357f981",
   "metadata": {},
   "outputs": [
    {
     "name": "stdout",
     "output_type": "stream",
     "text": [
      "C:\\Users\\prave\\Desktop\\Project\\Survey\n"
     ]
    }
   ],
   "source": [
    "cd \"C:\\Users\\prave\\Desktop\\Project\\Survey\""
   ]
  },
  {
   "cell_type": "code",
   "execution_count": 132,
   "id": "717e4155",
   "metadata": {},
   "outputs": [],
   "source": [
    "# Import necessary libraries\n",
    "import pandas as pd\n",
    "from sklearn.metrics import accuracy_score\n",
    "from collections import Counter\n",
    "import matplotlib.pyplot as plt\n",
    "import warnings"
   ]
  },
  {
   "cell_type": "code",
   "execution_count": 133,
   "id": "8ba52fbb",
   "metadata": {},
   "outputs": [],
   "source": [
    "# Create a DataFrame with your data\n",
    "data = pd.read_excel(\"EP_data.xlsx\", sheet_name=\"Train_data\")\n",
    "data=data[(data['Age'] >= 18) & (data['Age'] <= 35)]\n",
    "data_test=pd.read_excel(\"EP_data.xlsx\", sheet_name=\"Test_data1\")\n",
    "data_test=data_test[(data_test['Age'] >= 18) & (data_test['Age'] <= 35)]"
   ]
  },
  {
   "cell_type": "code",
   "execution_count": 134,
   "id": "27142b03",
   "metadata": {},
   "outputs": [],
   "source": [
    "# Define features and target\n",
    "features_train = data[['Age','Foreign Policy1','Education1','Occupation1','Narendra Modi1','Last Vote1']]\n",
    "target_train = data['Vote']\n",
    "features_test = data_test[['Age','Foreign Policy1','Education1','Occupation1','Narendra Modi1','Last Vote1']]\n",
    "target_test = data_test['Vote']"
   ]
  },
  {
   "cell_type": "code",
   "execution_count": 145,
   "id": "7cf8ebb2",
   "metadata": {},
   "outputs": [
    {
     "name": "stdout",
     "output_type": "stream",
     "text": [
      "The accuracy of the Logistic Regression model is 64.61538461538461%.\n",
      "BJP / JDS: 47.69%\n",
      "Congress: 47.69%\n",
      "Other: 4.62%\n"
     ]
    }
   ],
   "source": [
    "# Initialize the Logistic Regression model\n",
    "from sklearn.linear_model import LogisticRegression\n",
    "warnings.filterwarnings(\"ignore\")\n",
    "model = LogisticRegression()\n",
    "\n",
    "# Train the model\n",
    "Foreign_LR=model.fit(features_train, target_train)\n",
    "\n",
    "# Make predictions\n",
    "predictions = model.predict(features_test)\n",
    "\n",
    "Counter(predictions)\n",
    "\n",
    "# Calculate the accuracy of the model\n",
    "accuracy = accuracy_score(target_test, predictions)\n",
    "\n",
    "# Print the accuracy\n",
    "print(f\"The accuracy of the Logistic Regression model is {accuracy * 100}%.\")\n",
    "# Calculate counts\n",
    "result_counts = Counter(target_pred)\n",
    "\n",
    "# Compute total count\n",
    "total_count = sum(result_counts.values())\n",
    "\n",
    "# Calculate percentages\n",
    "result_percentages = {result: (count / total_count) * 100 for result, count in result_counts.items()}\n",
    "# Display percentages\n",
    "for result, percentage in result_percentages.items():\n",
    "    print(f\"{result}: {percentage:.2f}%\")"
   ]
  },
  {
   "cell_type": "code",
   "execution_count": 141,
   "id": "58acfbc0",
   "metadata": {},
   "outputs": [
    {
     "name": "stdout",
     "output_type": "stream",
     "text": [
      "Accuracy of DecisionTree classification is 76.92307692307693%.\n",
      "BJP / JDS: 47.69%\n",
      "Congress: 47.69%\n",
      "Other: 4.62%\n"
     ]
    }
   ],
   "source": [
    "from sklearn.tree import DecisionTreeClassifier\n",
    "# Create a Decision Tree Classifier object\n",
    "dtree = DecisionTreeClassifier()\n",
    "\n",
    "# Train the Decision Tree Classifier\n",
    "Foreign_tree=dtree.fit(features_train, target_train)\n",
    "\n",
    "# Predict the response for the test dataset\n",
    "target_pred = dtree.predict(features_test)\n",
    "# Calculate the accuracy of the model\n",
    "accuracy = accuracy_score(target_test, target_pred)\n",
    "\n",
    "# Print the accuracy\n",
    "print(f\"Accuracy of DecisionTree classification is {accuracy * 100}%.\")\n",
    "Counter(target_pred)\n",
    "# Calculate counts\n",
    "result_counts = Counter(target_pred)\n",
    "\n",
    "# Compute total count\n",
    "total_count = sum(result_counts.values())\n",
    "\n",
    "# Calculate percentages\n",
    "result_percentages = {result: (count / total_count) * 100 for result, count in result_counts.items()}\n",
    "# Display percentages\n",
    "for result, percentage in result_percentages.items():\n",
    "    print(f\"{result}: {percentage:.2f}%\")"
   ]
  },
  {
   "cell_type": "code",
   "execution_count": 137,
   "id": "fcd8ee39",
   "metadata": {},
   "outputs": [
    {
     "name": "stdout",
     "output_type": "stream",
     "text": [
      "-------->Accuracy of RandomForest is 80.0%.\n",
      "Congress: 55.38%\n",
      "BJP / JDS: 40.00%\n",
      "Other: 4.62%\n"
     ]
    }
   ],
   "source": [
    "from sklearn.ensemble import RandomForestClassifier\n",
    "# Create a Random Forest Classifier object\n",
    "clf = RandomForestClassifier(n_estimators=100)\n",
    "\n",
    "# Train the Random Forest Classifier\n",
    "Foreign_ran = clf.fit(features_train,target_train)\n",
    "\n",
    "# Predict the response for the test dataset\n",
    "target_pred = clf.predict(features_test)\n",
    "\n",
    "# Calculate the accuracy of the model\n",
    "accuracy = accuracy_score(target_test, target_pred)\n",
    "\n",
    "# Print the accuracy\n",
    "print(f\"-------->Accuracy of RandomForest is {accuracy * 100}%.\")\n",
    "Counter(target_pred)\n",
    "# Calculate counts\n",
    "result_counts = Counter(target_pred)\n",
    "\n",
    "# Compute total count\n",
    "total_count = sum(result_counts.values())\n",
    "\n",
    "# Calculate percentages\n",
    "result_percentages = {result: (count / total_count) * 100 for result, count in result_counts.items()}\n",
    "# Display percentages\n",
    "for result, percentage in result_percentages.items():\n",
    "    print(f\"{result}: {percentage:.2f}%\")"
   ]
  },
  {
   "cell_type": "code",
   "execution_count": 146,
   "id": "daed6dcc",
   "metadata": {},
   "outputs": [],
   "source": [
    "import pickle\n",
    "pickle_out=open(\"Foreign_LR.pkl\",\"wb\")\n",
    "pickle.dump(Foreign_LR,pickle_out)"
   ]
  },
  {
   "cell_type": "code",
   "execution_count": null,
   "id": "1b61f99f",
   "metadata": {},
   "outputs": [],
   "source": []
  }
 ],
 "metadata": {
  "kernelspec": {
   "display_name": "Python 3 (ipykernel)",
   "language": "python",
   "name": "python3"
  },
  "language_info": {
   "codemirror_mode": {
    "name": "ipython",
    "version": 3
   },
   "file_extension": ".py",
   "mimetype": "text/x-python",
   "name": "python",
   "nbconvert_exporter": "python",
   "pygments_lexer": "ipython3",
   "version": "3.11.5"
  }
 },
 "nbformat": 4,
 "nbformat_minor": 5
}
