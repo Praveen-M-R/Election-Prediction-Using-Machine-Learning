{
 "cells": [
  {
   "cell_type": "markdown",
   "id": "2078c53d",
   "metadata": {},
   "source": [
    "The failure of the Modi government in controlling essential commodity(LPG gas, milk, mustard oil, petrol, diesel) prices affects voter perception."
   ]
  },
  {
   "cell_type": "code",
   "execution_count": 1,
   "id": "cf3b793a",
   "metadata": {},
   "outputs": [
    {
     "name": "stdout",
     "output_type": "stream",
     "text": [
      "C:\\Users\\prave\\Desktop\\Project\\Survey\n"
     ]
    }
   ],
   "source": [
    "cd \"C:\\Users\\prave\\Desktop\\Project\\Survey\""
   ]
  },
  {
   "cell_type": "code",
   "execution_count": 2,
   "id": "19e4d8dd",
   "metadata": {},
   "outputs": [],
   "source": [
    "# Import necessary libraries\n",
    "import pandas as pd\n",
    "from sklearn.metrics import accuracy_score\n",
    "from collections import Counter\n",
    "import matplotlib.pyplot as plt"
   ]
  },
  {
   "cell_type": "code",
   "execution_count": 8,
   "id": "a33285d9",
   "metadata": {},
   "outputs": [],
   "source": [
    "#  Create a DataFrame with your data\n",
    "data = pd.read_excel(\"EP_data.xlsx\", sheet_name=\"Train_data\")\n",
    "values=('Less than ₹20,000','₹20,000 - ₹99,999')\n",
    "data = data[data['Monthly Income'].isin(values)]\n",
    "data_test=pd.read_excel(\"EP_data.xlsx\", sheet_name=\"Test_data1\")\n",
    "data_test = data_test[data_test['Monthly Income'].isin(values)]\n"
   ]
  },
  {
   "cell_type": "code",
   "execution_count": 9,
   "id": "dff1efa9",
   "metadata": {},
   "outputs": [],
   "source": [
    "# Define features and target\n",
    "features_train = data[['Monthly Income1','LPG/Milk1','Petrol/diesel1','Last Vote1']]\n",
    "target_train = data['Vote']\n",
    "features_test = data_test[['Monthly Income1','LPG/Milk1','Petrol/diesel1','Last Vote1']]\n",
    "target_test = data_test['Vote']"
   ]
  },
  {
   "cell_type": "code",
   "execution_count": 22,
   "id": "d735c055",
   "metadata": {},
   "outputs": [
    {
     "name": "stdout",
     "output_type": "stream",
     "text": [
      "['Congress' 'Congress' 'Congress' 'Congress' 'Congress' 'Congress'\n",
      " 'Congress' 'Congress' 'Congress' 'Congress' 'Congress' 'Congress'\n",
      " 'Congress' 'Congress' 'Congress' 'Congress' 'Congress' 'Congress'\n",
      " 'Congress' 'Congress' 'Congress' 'Congress' 'Congress' 'Congress'\n",
      " 'Congress' 'Congress' 'Congress' 'Congress' 'Congress' 'Congress'\n",
      " 'Congress' 'Congress' 'Congress' 'Congress' 'Congress' 'Congress'\n",
      " 'Congress' 'Congress' 'Congress' 'Congress' 'Congress' 'Congress'\n",
      " 'Congress' 'Congress' 'Congress' 'Congress' 'Congress' 'Congress'\n",
      " 'Congress' 'Congress' 'Congress' 'Congress' 'Congress' 'Congress'\n",
      " 'Congress' 'Congress' 'Congress' 'Congress' 'Congress' 'Congress'\n",
      " 'Congress' 'Congress' 'Congress' 'Congress' 'Congress' 'Congress'\n",
      " 'Congress' 'Congress' 'Congress' 'Congress' 'Congress' 'Congress'\n",
      " 'Congress' 'Congress' 'Congress' 'Congress' 'Congress' 'Congress'\n",
      " 'Congress' 'Congress' 'Congress' 'Congress' 'Congress' 'Congress']\n",
      "The accuracy of the Logistic Regression model is 60.71428571428571%.\n"
     ]
    }
   ],
   "source": [
    "# Initialize the Logistic Regression model\n",
    "from sklearn.linear_model import LogisticRegression\n",
    "model = LogisticRegression()\n",
    "\n",
    "# Train the model\n",
    "commodity_LR=model.fit(features_train, target_train)\n",
    "\n",
    "# Make predictions\n",
    "predictions = model.predict(features_test)\n",
    "\n",
    "# Calculate the accuracy of the model\n",
    "accuracy = accuracy_score(target_test, predictions)\n",
    "\n",
    "print(predictions)\n",
    "Counter(predictions)\n",
    "\n",
    "# Print the accuracy\n",
    "print(f\"The accuracy of the Logistic Regression model is {accuracy * 100}%.\")"
   ]
  },
  {
   "cell_type": "code",
   "execution_count": 15,
   "id": "5b38dc45",
   "metadata": {},
   "outputs": [
    {
     "name": "stdout",
     "output_type": "stream",
     "text": [
      "Accuracy of DecisionTree classification is 63.095238095238095%.\n"
     ]
    },
    {
     "data": {
      "text/plain": [
       "Counter({'Congress': 54, 'BJP / JDS': 30})"
      ]
     },
     "execution_count": 15,
     "metadata": {},
     "output_type": "execute_result"
    }
   ],
   "source": [
    "from sklearn.tree import DecisionTreeClassifier\n",
    "# Create a Decision Tree Classifier object\n",
    "dtree = DecisionTreeClassifier()\n",
    "\n",
    "# Train the Decision Tree Classifier\n",
    "commodity_tree=dtree.fit(features_train, target_train)\n",
    "\n",
    "# Predict the response for the test dataset\n",
    "target_pred = dtree.predict(features_test)\n",
    "# Calculate the accuracy of the model\n",
    "accuracy = accuracy_score(target_test, target_pred)\n",
    "\n",
    "# Print the accuracy\n",
    "print(f\"Accuracy of DecisionTree classification is {accuracy * 100}%.\")\n",
    "Counter(target_pred)"
   ]
  },
  {
   "cell_type": "code",
   "execution_count": 19,
   "id": "bd96ed5d",
   "metadata": {},
   "outputs": [
    {
     "name": "stdout",
     "output_type": "stream",
     "text": [
      "['Congress' 'BJP / JDS' 'Congress' 'Congress' 'Congress' 'Congress'\n",
      " 'Congress' 'Congress' 'Congress' 'Congress' 'BJP / JDS' 'BJP / JDS'\n",
      " 'Congress' 'Congress' 'Congress' 'Congress' 'Congress' 'Congress'\n",
      " 'Congress' 'BJP / JDS' 'Congress' 'Congress' 'Congress' 'BJP / JDS'\n",
      " 'Congress' 'Congress' 'Congress' 'BJP / JDS' 'Congress' 'BJP / JDS'\n",
      " 'Congress' 'BJP / JDS' 'Congress' 'Congress' 'Congress' 'BJP / JDS'\n",
      " 'Congress' 'BJP / JDS' 'Congress' 'BJP / JDS' 'Congress' 'Congress'\n",
      " 'BJP / JDS' 'Congress' 'Congress' 'BJP / JDS' 'BJP / JDS' 'BJP / JDS'\n",
      " 'BJP / JDS' 'Congress' 'Congress' 'Congress' 'Congress' 'Congress'\n",
      " 'Congress' 'Congress' 'Congress' 'Congress' 'Congress' 'Congress'\n",
      " 'BJP / JDS' 'BJP / JDS' 'Congress' 'BJP / JDS' 'BJP / JDS' 'Congress'\n",
      " 'Congress' 'Congress' 'BJP / JDS' 'Congress' 'Congress' 'Congress'\n",
      " 'Congress' 'BJP / JDS' 'BJP / JDS' 'BJP / JDS' 'BJP / JDS' 'Congress'\n",
      " 'BJP / JDS' 'BJP / JDS' 'BJP / JDS' 'Congress' 'Congress' 'BJP / JDS']\n",
      "-------->Accuracy of RandomForest is 63.095238095238095%.\n"
     ]
    },
    {
     "data": {
      "text/plain": [
       "Counter({'Congress': 55, 'BJP / JDS': 29})"
      ]
     },
     "execution_count": 19,
     "metadata": {},
     "output_type": "execute_result"
    }
   ],
   "source": [
    "from sklearn.ensemble import RandomForestClassifier\n",
    "# Create a Random Forest Classifier object\n",
    "clf = RandomForestClassifier(n_estimators=100)\n",
    "\n",
    "# Train the Random Forest Classifier\n",
    "commodity_Ran = clf.fit(features_train,target_train)\n",
    "\n",
    "# Predict the response for the test dataset\n",
    "target_pred = clf.predict(features_test)\n",
    "print(target_pred)\n",
    "# Calculate the accuracy of the model\n",
    "accuracy = accuracy_score(target_test, target_pred)\n",
    "\n",
    "# Print the accuracy\n",
    "print(f\"-------->Accuracy of RandomForest is {accuracy * 100}%.\")\n",
    "Counter(target_pred)"
   ]
  },
  {
   "cell_type": "code",
   "execution_count": 24,
   "id": "e525f364",
   "metadata": {},
   "outputs": [],
   "source": [
    "import pickle\n",
    "pickle_out=open(\"commodity_LR.pkl\",\"wb\")\n",
    "pickle.dump(commodity_LR,pickle_out)"
   ]
  },
  {
   "cell_type": "code",
   "execution_count": null,
   "id": "e7363413",
   "metadata": {},
   "outputs": [],
   "source": []
  }
 ],
 "metadata": {
  "kernelspec": {
   "display_name": "Python 3 (ipykernel)",
   "language": "python",
   "name": "python3"
  },
  "language_info": {
   "codemirror_mode": {
    "name": "ipython",
    "version": 3
   },
   "file_extension": ".py",
   "mimetype": "text/x-python",
   "name": "python",
   "nbconvert_exporter": "python",
   "pygments_lexer": "ipython3",
   "version": "3.11.5"
  }
 },
 "nbformat": 4,
 "nbformat_minor": 5
}
