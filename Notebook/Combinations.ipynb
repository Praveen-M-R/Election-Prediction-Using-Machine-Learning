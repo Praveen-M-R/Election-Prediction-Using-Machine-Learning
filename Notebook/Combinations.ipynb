{
 "cells": [
  {
   "cell_type": "code",
   "execution_count": 3,
   "id": "1d2f8505",
   "metadata": {},
   "outputs": [
    {
     "name": "stdout",
     "output_type": "stream",
     "text": [
      "()\n",
      "('Economy and Jobs',)\n",
      "('Corruption',)\n",
      "('Electoral Bonds',)\n",
      "('Hijab',)\n",
      "('National Security',)\n",
      "('Economy and Jobs', 'Corruption')\n",
      "('Economy and Jobs', 'Electoral Bonds')\n",
      "('Economy and Jobs', 'Hijab')\n",
      "('Economy and Jobs', 'National Security')\n",
      "('Corruption', 'Electoral Bonds')\n",
      "('Corruption', 'Hijab')\n",
      "('Corruption', 'National Security')\n",
      "('Electoral Bonds', 'Hijab')\n",
      "('Electoral Bonds', 'National Security')\n",
      "('Hijab', 'National Security')\n",
      "('Economy and Jobs', 'Corruption', 'Electoral Bonds')\n",
      "('Economy and Jobs', 'Corruption', 'Hijab')\n",
      "('Economy and Jobs', 'Corruption', 'National Security')\n",
      "('Economy and Jobs', 'Electoral Bonds', 'Hijab')\n",
      "('Economy and Jobs', 'Electoral Bonds', 'National Security')\n",
      "('Economy and Jobs', 'Hijab', 'National Security')\n",
      "('Corruption', 'Electoral Bonds', 'Hijab')\n",
      "('Corruption', 'Electoral Bonds', 'National Security')\n",
      "('Corruption', 'Hijab', 'National Security')\n",
      "('Electoral Bonds', 'Hijab', 'National Security')\n",
      "('Economy and Jobs', 'Corruption', 'Electoral Bonds', 'Hijab')\n",
      "('Economy and Jobs', 'Corruption', 'Electoral Bonds', 'National Security')\n",
      "('Economy and Jobs', 'Corruption', 'Hijab', 'National Security')\n",
      "('Economy and Jobs', 'Electoral Bonds', 'Hijab', 'National Security')\n",
      "('Corruption', 'Electoral Bonds', 'Hijab', 'National Security')\n",
      "('Economy and Jobs', 'Corruption', 'Electoral Bonds', 'Hijab', 'National Security')\n"
     ]
    }
   ],
   "source": [
    "from itertools import chain, combinations\n",
    "\n",
    "def all_subsets(elements):\n",
    "    return list(chain(*[combinations(elements, i) for i in range(len(elements) + 1)]))\n",
    "\n",
    "elements = ['Economy and Jobs', 'Corruption', 'Electoral Bonds', 'Hijab', 'National Security']  # replace with your 6 elements\n",
    "subsets = all_subsets(elements)\n",
    "\n",
    "for subset in subsets:\n",
    "    print(subset)"
   ]
  },
  {
   "cell_type": "code",
   "execution_count": 4,
   "id": "4dd7d0cd",
   "metadata": {},
   "outputs": [
    {
     "name": "stdout",
     "output_type": "stream",
     "text": [
      "('Economy and Jobs',)\n",
      "('Corruption',)\n",
      "('Electoral Bonds',)\n",
      "('Hijab',)\n",
      "('National Security',)\n",
      "('Economy and Jobs', 'Corruption')\n",
      "('Economy and Jobs', 'Electoral Bonds')\n",
      "('Economy and Jobs', 'Hijab')\n",
      "('Economy and Jobs', 'National Security')\n",
      "('Corruption', 'Electoral Bonds')\n",
      "('Corruption', 'Hijab')\n",
      "('Corruption', 'National Security')\n",
      "('Electoral Bonds', 'Hijab')\n",
      "('Electoral Bonds', 'National Security')\n",
      "('Hijab', 'National Security')\n",
      "('Economy and Jobs', 'Corruption', 'Electoral Bonds')\n",
      "('Economy and Jobs', 'Corruption', 'Hijab')\n",
      "('Economy and Jobs', 'Corruption', 'National Security')\n",
      "('Economy and Jobs', 'Electoral Bonds', 'Hijab')\n",
      "('Economy and Jobs', 'Electoral Bonds', 'National Security')\n",
      "('Economy and Jobs', 'Hijab', 'National Security')\n",
      "('Corruption', 'Electoral Bonds', 'Hijab')\n",
      "('Corruption', 'Electoral Bonds', 'National Security')\n",
      "('Corruption', 'Hijab', 'National Security')\n",
      "('Electoral Bonds', 'Hijab', 'National Security')\n",
      "('Economy and Jobs', 'Corruption', 'Electoral Bonds', 'Hijab')\n",
      "('Economy and Jobs', 'Corruption', 'Electoral Bonds', 'National Security')\n",
      "('Economy and Jobs', 'Corruption', 'Hijab', 'National Security')\n",
      "('Economy and Jobs', 'Electoral Bonds', 'Hijab', 'National Security')\n",
      "('Corruption', 'Electoral Bonds', 'Hijab', 'National Security')\n",
      "('Economy and Jobs', 'Corruption', 'Electoral Bonds', 'Hijab', 'National Security')\n"
     ]
    }
   ],
   "source": [
    "from itertools import chain, combinations\n",
    "\n",
    "def all_subsets(elements):\n",
    "    # Exclude the empty set by starting from 1 instead of 0\n",
    "    return list(chain(*[combinations(elements, i) for i in range(1, len(elements) + 1)]))\n",
    "\n",
    "elements = ['Economy and Jobs', 'Corruption', 'Electoral Bonds', 'Hijab', 'National Security']  # replace with your 5 elements\n",
    "subsets = all_subsets(elements)\n",
    "\n",
    "for subset in subsets:\n",
    "    print(subset)\n"
   ]
  },
  {
   "cell_type": "code",
   "execution_count": 5,
   "id": "bd03ddea",
   "metadata": {},
   "outputs": [
    {
     "name": "stdout",
     "output_type": "stream",
     "text": [
      "Economy and Jobs\n",
      "Corruption\n",
      "Electoral Bonds\n",
      "Hijab\n",
      "National Security\n",
      "Economy and Jobs Corruption\n",
      "Economy and Jobs Electoral Bonds\n",
      "Economy and Jobs Hijab\n",
      "Economy and Jobs National Security\n",
      "Corruption Electoral Bonds\n",
      "Corruption Hijab\n",
      "Corruption National Security\n",
      "Electoral Bonds Hijab\n",
      "Electoral Bonds National Security\n",
      "Hijab National Security\n",
      "Economy and Jobs Corruption Electoral Bonds\n",
      "Economy and Jobs Corruption Hijab\n",
      "Economy and Jobs Corruption National Security\n",
      "Economy and Jobs Electoral Bonds Hijab\n",
      "Economy and Jobs Electoral Bonds National Security\n",
      "Economy and Jobs Hijab National Security\n",
      "Corruption Electoral Bonds Hijab\n",
      "Corruption Electoral Bonds National Security\n",
      "Corruption Hijab National Security\n",
      "Electoral Bonds Hijab National Security\n",
      "Economy and Jobs Corruption Electoral Bonds Hijab\n",
      "Economy and Jobs Corruption Electoral Bonds National Security\n",
      "Economy and Jobs Corruption Hijab National Security\n",
      "Economy and Jobs Electoral Bonds Hijab National Security\n",
      "Corruption Electoral Bonds Hijab National Security\n",
      "Economy and Jobs Corruption Electoral Bonds Hijab National Security\n"
     ]
    }
   ],
   "source": [
    "from itertools import chain, combinations\n",
    "\n",
    "def all_subsets(elements):\n",
    "    # Exclude the empty set by starting from 1 instead of 0\n",
    "    return list(chain(*[combinations(elements, i) for i in range(1, len(elements) + 1)]))\n",
    "\n",
    "elements = ['Economy and Jobs', 'Corruption', 'Electoral Bonds', 'Hijab', 'National Security']  # replace with your 5 elements\n",
    "subsets = all_subsets(elements)\n",
    "\n",
    "for subset in subsets:\n",
    "    # Join the elements of the subset into a space-separated string\n",
    "    subset_str = ' '.join(subset)\n",
    "    print(subset_str)\n"
   ]
  },
  {
   "cell_type": "code",
   "execution_count": 6,
   "id": "e81b03bf",
   "metadata": {},
   "outputs": [
    {
     "name": "stdout",
     "output_type": "stream",
     "text": [
      "Economy and Jobs\n",
      "Corruption\n",
      "Electoral Bonds\n",
      "Hijab\n",
      "National Security\n",
      "Economy and Jobs, Corruption\n",
      "Economy and Jobs, Electoral Bonds\n",
      "Economy and Jobs, Hijab\n",
      "Economy and Jobs, National Security\n",
      "Corruption, Electoral Bonds\n",
      "Corruption, Hijab\n",
      "Corruption, National Security\n",
      "Electoral Bonds, Hijab\n",
      "Electoral Bonds, National Security\n",
      "Hijab, National Security\n",
      "Economy and Jobs, Corruption, Electoral Bonds\n",
      "Economy and Jobs, Corruption, Hijab\n",
      "Economy and Jobs, Corruption, National Security\n",
      "Economy and Jobs, Electoral Bonds, Hijab\n",
      "Economy and Jobs, Electoral Bonds, National Security\n",
      "Economy and Jobs, Hijab, National Security\n",
      "Corruption, Electoral Bonds, Hijab\n",
      "Corruption, Electoral Bonds, National Security\n",
      "Corruption, Hijab, National Security\n",
      "Electoral Bonds, Hijab, National Security\n",
      "Economy and Jobs, Corruption, Electoral Bonds, Hijab\n",
      "Economy and Jobs, Corruption, Electoral Bonds, National Security\n",
      "Economy and Jobs, Corruption, Hijab, National Security\n",
      "Economy and Jobs, Electoral Bonds, Hijab, National Security\n",
      "Corruption, Electoral Bonds, Hijab, National Security\n",
      "Economy and Jobs, Corruption, Electoral Bonds, Hijab, National Security\n"
     ]
    }
   ],
   "source": [
    "from itertools import chain, combinations\n",
    "\n",
    "def all_subsets(elements):\n",
    "    # Exclude the empty set by starting from 1 instead of 0\n",
    "    return list(chain(*[combinations(elements, i) for i in range(1, len(elements) + 1)]))\n",
    "\n",
    "elements = ['Economy and Jobs', 'Corruption', 'Electoral Bonds', 'Hijab', 'National Security']  # replace with your 5 elements\n",
    "subsets = all_subsets(elements)\n",
    "\n",
    "for subset in subsets:\n",
    "    # Join the elements of the subset into a comma-separated string\n",
    "    subset_str = ', '.join(subset)\n",
    "    print(subset_str)\n"
   ]
  },
  {
   "cell_type": "code",
   "execution_count": null,
   "id": "98250f9c",
   "metadata": {},
   "outputs": [],
   "source": []
  }
 ],
 "metadata": {
  "kernelspec": {
   "display_name": "Python 3 (ipykernel)",
   "language": "python",
   "name": "python3"
  },
  "language_info": {
   "codemirror_mode": {
    "name": "ipython",
    "version": 3
   },
   "file_extension": ".py",
   "mimetype": "text/x-python",
   "name": "python",
   "nbconvert_exporter": "python",
   "pygments_lexer": "ipython3",
   "version": "3.11.5"
  }
 },
 "nbformat": 4,
 "nbformat_minor": 5
}
