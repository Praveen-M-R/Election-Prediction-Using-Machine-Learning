{
 "cells": [
  {
   "cell_type": "code",
   "execution_count": 87,
   "id": "f55bd760",
   "metadata": {},
   "outputs": [
    {
     "name": "stdout",
     "output_type": "stream",
     "text": [
      "C:\\Users\\prave\\Desktop\\Project\\Code\n"
     ]
    }
   ],
   "source": [
    "cd \"C:\\Users\\prave\\Desktop\\Project\\Code\""
   ]
  },
  {
   "cell_type": "code",
   "execution_count": 88,
   "id": "1b2c4c2b",
   "metadata": {},
   "outputs": [],
   "source": [
    "# Import necessary libraries\n",
    "import pandas as pd\n",
    "from sklearn.metrics import accuracy_score\n",
    "from collections import Counter"
   ]
  },
  {
   "cell_type": "code",
   "execution_count": 89,
   "id": "4215c353",
   "metadata": {},
   "outputs": [],
   "source": [
    "# Create a DataFrame with your data\n",
    "data = pd.read_excel(\"EP_data1.xlsx\", sheet_name=\"Train_data\")\n",
    "data_test=pd.read_excel(\"EP_data1.xlsx\", sheet_name=\"Test_data\")"
   ]
  },
  {
   "cell_type": "code",
   "execution_count": 81,
   "id": "fc00140a",
   "metadata": {},
   "outputs": [],
   "source": [
    "# Define features and target\n",
    "#features_train = data[['Age','Material status1','Gender1','Education1','Occupation1','Monthly Income1','Caste1','Gruha lakshmi0','Gruha Lakshmi1','Shakthi0','Shakti1','Gruha jyothi0','Gruha jyothi1','Annabhagya0','Annabhagya1','Yuva nidhi0','Yuva nidhi1','Foreign Policy1','EWS1','Petrol/diesel1','LPG/Milk1','unemployment1','Happy with Ram Mandir1','HINDU RASHTRA1','Siddaramaiah1','Narendra Modi1','Discrimination in funds1','Separate south India1','More tax1','Address the tax difference1','Effect of tax on election1','Caste in election1','Vote based on Guarantee1','Vote based on Ram Mandir1','Last Vote1']]\n",
    "#target_train = data['Vote']\n",
    "#features_test=data_test[['Age','Material status1','Gender1','Education1','Occupation1','Monthly Income1','Caste1','Gruha lakshmi0','Gruha Lakshmi1','Shakthi0','Shakti1','Gruha jyothi0','Gruha jyothi1','Annabhagya0','Annabhagya1','Yuva nidhi0','Yuva nidhi1','Foreign Policy1','EWS1','Petrol/diesel1','LPG/Milk1','unemployment1','Happy with Ram Mandir1','HINDU RASHTRA1','Siddaramaiah1','Narendra Modi1','Discrimination in funds1','Separate south India1','More tax1','Address the tax difference1','Effect of tax on election1','Caste in election1','Vote based on Guarantee1','Vote based on Ram Mandir1','Last Vote1']]\n",
    "#target_test=data_test['Vote']"
   ]
  },
  {
   "cell_type": "code",
   "execution_count": 93,
   "id": "801fee27",
   "metadata": {},
   "outputs": [],
   "source": [
    "features_train = data[['Age','Gender1','Education1','Monthly Income1','Occupation1','Caste1','Caste in election1','Effect of tax on election1','Vote based on Guarantee1','Vote based on Ram Mandir1','Last Vote1']]\n",
    "target_train = data['Vote']\n",
    "features_test=data_test[['Age','Gender1','Education1','Monthly Income1','Occupation1','Caste1','Caste in election1','Effect of tax on election1','Vote based on Guarantee1','Vote based on Ram Mandir1','Last Vote1']]\n",
    "target_test=data_test['Vote']"
   ]
  },
  {
   "cell_type": "code",
   "execution_count": 94,
   "id": "b035223b",
   "metadata": {},
   "outputs": [
    {
     "data": {
      "text/html": [
       "<div>\n",
       "<style scoped>\n",
       "    .dataframe tbody tr th:only-of-type {\n",
       "        vertical-align: middle;\n",
       "    }\n",
       "\n",
       "    .dataframe tbody tr th {\n",
       "        vertical-align: top;\n",
       "    }\n",
       "\n",
       "    .dataframe thead th {\n",
       "        text-align: right;\n",
       "    }\n",
       "</style>\n",
       "<table border=\"1\" class=\"dataframe\">\n",
       "  <thead>\n",
       "    <tr style=\"text-align: right;\">\n",
       "      <th></th>\n",
       "      <th>Age</th>\n",
       "      <th>Gender1</th>\n",
       "      <th>Education1</th>\n",
       "      <th>Monthly Income1</th>\n",
       "      <th>Occupation1</th>\n",
       "      <th>Caste1</th>\n",
       "      <th>Caste in election1</th>\n",
       "      <th>Effect of tax on election1</th>\n",
       "      <th>Vote based on Guarantee1</th>\n",
       "      <th>Vote based on Ram Mandir1</th>\n",
       "      <th>Last Vote1</th>\n",
       "    </tr>\n",
       "  </thead>\n",
       "  <tbody>\n",
       "    <tr>\n",
       "      <th>0</th>\n",
       "      <td>39</td>\n",
       "      <td>2</td>\n",
       "      <td>4</td>\n",
       "      <td>1</td>\n",
       "      <td>9</td>\n",
       "      <td>7</td>\n",
       "      <td>2</td>\n",
       "      <td>5</td>\n",
       "      <td>2</td>\n",
       "      <td>2</td>\n",
       "      <td>3</td>\n",
       "    </tr>\n",
       "    <tr>\n",
       "      <th>1</th>\n",
       "      <td>27</td>\n",
       "      <td>2</td>\n",
       "      <td>5</td>\n",
       "      <td>2</td>\n",
       "      <td>1</td>\n",
       "      <td>7</td>\n",
       "      <td>2</td>\n",
       "      <td>3</td>\n",
       "      <td>0</td>\n",
       "      <td>1</td>\n",
       "      <td>1</td>\n",
       "    </tr>\n",
       "    <tr>\n",
       "      <th>2</th>\n",
       "      <td>27</td>\n",
       "      <td>2</td>\n",
       "      <td>5</td>\n",
       "      <td>2</td>\n",
       "      <td>1</td>\n",
       "      <td>7</td>\n",
       "      <td>1</td>\n",
       "      <td>5</td>\n",
       "      <td>1</td>\n",
       "      <td>2</td>\n",
       "      <td>3</td>\n",
       "    </tr>\n",
       "    <tr>\n",
       "      <th>3</th>\n",
       "      <td>57</td>\n",
       "      <td>2</td>\n",
       "      <td>1</td>\n",
       "      <td>1</td>\n",
       "      <td>2</td>\n",
       "      <td>7</td>\n",
       "      <td>2</td>\n",
       "      <td>5</td>\n",
       "      <td>2</td>\n",
       "      <td>0</td>\n",
       "      <td>3</td>\n",
       "    </tr>\n",
       "    <tr>\n",
       "      <th>4</th>\n",
       "      <td>45</td>\n",
       "      <td>2</td>\n",
       "      <td>2</td>\n",
       "      <td>1</td>\n",
       "      <td>2</td>\n",
       "      <td>7</td>\n",
       "      <td>2</td>\n",
       "      <td>4</td>\n",
       "      <td>2</td>\n",
       "      <td>2</td>\n",
       "      <td>3</td>\n",
       "    </tr>\n",
       "  </tbody>\n",
       "</table>\n",
       "</div>"
      ],
      "text/plain": [
       "   Age  Gender1  Education1  Monthly Income1  Occupation1  Caste1  \\\n",
       "0   39        2           4                1            9       7   \n",
       "1   27        2           5                2            1       7   \n",
       "2   27        2           5                2            1       7   \n",
       "3   57        2           1                1            2       7   \n",
       "4   45        2           2                1            2       7   \n",
       "\n",
       "   Caste in election1  Effect of tax on election1  Vote based on Guarantee1  \\\n",
       "0                   2                           5                         2   \n",
       "1                   2                           3                         0   \n",
       "2                   1                           5                         1   \n",
       "3                   2                           5                         2   \n",
       "4                   2                           4                         2   \n",
       "\n",
       "   Vote based on Ram Mandir1  Last Vote1  \n",
       "0                          2           3  \n",
       "1                          1           1  \n",
       "2                          2           3  \n",
       "3                          0           3  \n",
       "4                          2           3  "
      ]
     },
     "execution_count": 94,
     "metadata": {},
     "output_type": "execute_result"
    }
   ],
   "source": [
    "features_train.head()"
   ]
  },
  {
   "cell_type": "code",
   "execution_count": 95,
   "id": "e28ad593",
   "metadata": {},
   "outputs": [
    {
     "name": "stdout",
     "output_type": "stream",
     "text": [
      "The accuracy of the Logistic Regression model is 55.69620253164557%.\n",
      "Congress: 81.01%\n",
      "BJP / JDS: 17.72%\n",
      "Other: 1.27%\n"
     ]
    }
   ],
   "source": [
    "from sklearn.linear_model import LogisticRegression\n",
    "import warnings\n",
    "warnings.filterwarnings(\"ignore\")\n",
    "# Initialize the Logistic Regression model\n",
    "model = LogisticRegression()\n",
    "\n",
    "# Train the model\n",
    "Final_LR=model.fit(features_train, target_train)\n",
    "\n",
    "# Make predictions\n",
    "predictions = model.predict(features_test)\n",
    "\n",
    "# Calculate the accuracy of the model\n",
    "accuracy = accuracy_score(target_test, predictions)\n",
    "\n",
    "# Print the accuracy\n",
    "print(f\"The accuracy of the Logistic Regression model is {accuracy * 100}%.\")\n",
    "# Calculate counts\n",
    "result_counts = Counter(predictions)\n",
    "\n",
    "# Compute total count\n",
    "total_count = sum(result_counts.values())\n",
    "\n",
    "# Calculate percentages\n",
    "result_percentages = {result: (count / total_count) * 100 for result, count in result_counts.items()}\n",
    "# Display percentages\n",
    "for result, percentage in result_percentages.items():\n",
    "    print(f\"{result}: {percentage:.2f}%\")"
   ]
  },
  {
   "cell_type": "code",
   "execution_count": 96,
   "id": "2f547bf3",
   "metadata": {},
   "outputs": [
    {
     "name": "stdout",
     "output_type": "stream",
     "text": [
      "Accuracy of DecisionTree classification is 86.07594936708861%.\n",
      "BJP / JDS: 44.30%\n",
      "Congress: 54.43%\n",
      "Other: 1.27%\n"
     ]
    }
   ],
   "source": [
    "from sklearn.tree import DecisionTreeClassifier\n",
    "# Create a Decision Tree Classifier object\n",
    "dtree = DecisionTreeClassifier()\n",
    "\n",
    "# Train the Decision Tree Classifier\n",
    "Final_tree=dtree.fit(features_train, target_train)\n",
    "\n",
    "# Predict the response for the test dataset\n",
    "target_pred = dtree.predict(features_test)\n",
    "# Calculate the accuracy of the model\n",
    "accuracy = accuracy_score(target_test, target_pred)\n",
    "\n",
    "# Print the accuracy\n",
    "print(f\"Accuracy of DecisionTree classification is {accuracy * 100}%.\")\n",
    "# Calculate counts\n",
    "result_counts = Counter(target_pred)\n",
    "\n",
    "# Compute total count\n",
    "total_count = sum(result_counts.values())\n",
    "\n",
    "# Calculate percentages\n",
    "result_percentages = {result: (count / total_count) * 100 for result, count in result_counts.items()}\n",
    "# Display percentages\n",
    "for result, percentage in result_percentages.items():\n",
    "    print(f\"{result}: {percentage:.2f}%\")"
   ]
  },
  {
   "cell_type": "code",
   "execution_count": 99,
   "id": "db0ce83b",
   "metadata": {},
   "outputs": [
    {
     "name": "stdout",
     "output_type": "stream",
     "text": [
      "-------->Accuracy of RandomForest is 84.81012658227847%.\n",
      "Congress: 56.96%\n",
      "BJP / JDS: 43.04%\n"
     ]
    }
   ],
   "source": [
    "from sklearn.ensemble import RandomForestClassifier\n",
    "# Create a Random Forest Classifier object\n",
    "clf = RandomForestClassifier(n_estimators=100)\n",
    "\n",
    "# Train the Random Forest Classifier\n",
    "Final_Ran = clf.fit(features_train,target_train)\n",
    "\n",
    "# Predict the response for the test dataset\n",
    "target_pred = clf.predict(features_test)\n",
    "# Calculate the accuracy of the model\n",
    "accuracy = accuracy_score(target_test, target_pred)\n",
    "\n",
    "# Print the accuracy\n",
    "print(f\"-------->Accuracy of RandomForest is {accuracy * 100}%.\")\n",
    "# Calculate counts\n",
    "result_counts = Counter(target_pred)\n",
    "\n",
    "# Compute total count\n",
    "total_count = sum(result_counts.values())\n",
    "\n",
    "# Calculate percentages\n",
    "result_percentages = {result: (count / total_count) * 100 for result, count in result_counts.items()}\n",
    "# Display percentages\n",
    "for result, percentage in result_percentages.items():\n",
    "    print(f\"{result}: {percentage:.2f}%\")\n",
    "\n",
    "    results = list(result_percentages.keys())\n",
    "percentages = list(result_percentages.values())\n"
   ]
  },
  {
   "cell_type": "code",
   "execution_count": null,
   "id": "9c833743",
   "metadata": {},
   "outputs": [],
   "source": []
  },
  {
   "cell_type": "code",
   "execution_count": null,
   "id": "d624770a",
   "metadata": {},
   "outputs": [],
   "source": []
  }
 ],
 "metadata": {
  "kernelspec": {
   "display_name": "Python 3 (ipykernel)",
   "language": "python",
   "name": "python3"
  },
  "language_info": {
   "codemirror_mode": {
    "name": "ipython",
    "version": 3
   },
   "file_extension": ".py",
   "mimetype": "text/x-python",
   "name": "python",
   "nbconvert_exporter": "python",
   "pygments_lexer": "ipython3",
   "version": "3.11.5"
  }
 },
 "nbformat": 4,
 "nbformat_minor": 5
}
