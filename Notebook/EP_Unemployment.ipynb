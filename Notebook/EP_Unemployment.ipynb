{
 "cells": [
  {
   "cell_type": "markdown",
   "id": "f6e6f5c8",
   "metadata": {},
   "source": [
    "Unemployment is a critical concern for the youth population and influence their voting decisions."
   ]
  },
  {
   "cell_type": "code",
   "execution_count": 18,
   "id": "9357f981",
   "metadata": {},
   "outputs": [
    {
     "name": "stdout",
     "output_type": "stream",
     "text": [
      "C:\\Users\\prave\\Desktop\\Project\\Survey\n"
     ]
    }
   ],
   "source": [
    "cd \"C:\\Users\\prave\\Desktop\\Project\\Survey\""
   ]
  },
  {
   "cell_type": "code",
   "execution_count": 19,
   "id": "717e4155",
   "metadata": {},
   "outputs": [],
   "source": [
    "# Import necessary libraries\n",
    "import pandas as pd\n",
    "from sklearn.metrics import accuracy_score\n",
    "from collections import Counter\n",
    "import matplotlib.pyplot as plt"
   ]
  },
  {
   "cell_type": "code",
   "execution_count": 20,
   "id": "8ba52fbb",
   "metadata": {},
   "outputs": [],
   "source": [
    "# Create a DataFrame with your data\n",
    "data = pd.read_excel(\"EP_data.xlsx\", sheet_name=\"Train_data\")\n",
    "data=data[(data['Age'] >= 18) & (data['Age'] <= 35)]\n",
    "data_test=pd.read_excel(\"EP_data.xlsx\", sheet_name=\"Test_data1\")\n",
    "data_test=data_test[(data_test['Age'] >= 18) & (data_test['Age'] <= 35)]"
   ]
  },
  {
   "cell_type": "code",
   "execution_count": 21,
   "id": "3c49547d",
   "metadata": {},
   "outputs": [],
   "source": [
    "# Define features and target\n",
    "features_train = data[['unemployment1','Occupation1','Monthly Income1','Last Vote1']]\n",
    "target_train = data['Vote']\n",
    "features_test = data_test[['unemployment1','Occupation1','Monthly Income1','Last Vote1']]\n",
    "target_test = data_test['Vote']"
   ]
  },
  {
   "cell_type": "code",
   "execution_count": 39,
   "id": "7cf8ebb2",
   "metadata": {},
   "outputs": [
    {
     "name": "stdout",
     "output_type": "stream",
     "text": [
      "['Congress' 'Congress' 'Congress' 'Congress' 'Congress' 'Congress'\n",
      " 'BJP / JDS' 'Congress' 'Congress' 'Congress' 'Congress' 'Congress'\n",
      " 'Congress' 'Congress' 'Congress' 'Congress' 'Congress' 'Congress'\n",
      " 'Congress' 'Congress' 'Congress' 'Congress' 'Congress' 'Congress'\n",
      " 'Congress' 'Congress' 'Congress' 'BJP / JDS' 'Congress' 'Congress'\n",
      " 'BJP / JDS' 'Congress' 'Congress' 'Congress' 'BJP / JDS' 'Congress'\n",
      " 'Congress' 'Congress' 'Congress' 'Congress' 'Congress' 'Congress'\n",
      " 'Congress' 'Congress' 'Congress' 'Congress' 'Congress' 'BJP / JDS'\n",
      " 'Congress' 'Congress' 'BJP / JDS' 'Congress' 'Congress' 'Congress'\n",
      " 'Congress' 'Congress' 'Congress' 'Congress' 'Congress' 'Congress'\n",
      " 'Congress' 'BJP / JDS' 'Congress' 'Congress' 'Congress']\n",
      "The accuracy of the Logistic Regression model is 66.15384615384615%.\n"
     ]
    }
   ],
   "source": [
    "# Initialize the Logistic Regression model\n",
    "from sklearn.linear_model import LogisticRegression\n",
    "model = LogisticRegression()\n",
    "\n",
    "# Train the model\n",
    "Unemployment_LR=model.fit(features_train, target_train)\n",
    "\n",
    "# Make predictions\n",
    "predictions = model.predict(features_test)\n",
    "\n",
    "print(predictions )\n",
    "Counter(predictions)\n",
    "\n",
    "# Calculate the accuracy of the model\n",
    "accuracy = accuracy_score(target_test, predictions)\n",
    "\n",
    "# Print the accuracy\n",
    "print(f\"The accuracy of the Logistic Regression model is {accuracy * 100}%.\")"
   ]
  },
  {
   "cell_type": "code",
   "execution_count": 37,
   "id": "58acfbc0",
   "metadata": {},
   "outputs": [
    {
     "name": "stdout",
     "output_type": "stream",
     "text": [
      "Accuracy of DecisionTree classification is 60.0%.\n"
     ]
    },
    {
     "data": {
      "text/plain": [
       "Counter({'Congress': 34, 'BJP / JDS': 28, 'Other': 3})"
      ]
     },
     "execution_count": 37,
     "metadata": {},
     "output_type": "execute_result"
    }
   ],
   "source": [
    "from sklearn.tree import DecisionTreeClassifier\n",
    "# Create a Decision Tree Classifier object\n",
    "dtree = DecisionTreeClassifier()\n",
    "\n",
    "# Train the Decision Tree Classifier\n",
    "Unemployment_tree=dtree.fit(features_train, target_train)\n",
    "\n",
    "# Predict the response for the test dataset\n",
    "target_pred = dtree.predict(features_test)\n",
    "# Calculate the accuracy of the model\n",
    "accuracy = accuracy_score(target_test, target_pred)\n",
    "\n",
    "# Print the accuracy\n",
    "print(f\"Accuracy of DecisionTree classification is {accuracy * 100}%.\")\n",
    "Counter(target_pred)"
   ]
  },
  {
   "cell_type": "code",
   "execution_count": 30,
   "id": "fcd8ee39",
   "metadata": {},
   "outputs": [
    {
     "name": "stdout",
     "output_type": "stream",
     "text": [
      "['BJP / JDS' 'BJP / JDS' 'Congress' 'Congress' 'Congress' 'Congress'\n",
      " 'Congress' 'Congress' 'Congress' 'Congress' 'Congress' 'BJP / JDS'\n",
      " 'Congress' 'Congress' 'BJP / JDS' 'Congress' 'Other' 'BJP / JDS'\n",
      " 'Congress' 'Congress' 'Congress' 'BJP / JDS' 'Congress' 'Other'\n",
      " 'BJP / JDS' 'BJP / JDS' 'Congress' 'BJP / JDS' 'Congress' 'Congress'\n",
      " 'BJP / JDS' 'Congress' 'Other' 'BJP / JDS' 'BJP / JDS' 'Congress'\n",
      " 'Congress' 'Congress' 'Congress' 'Congress' 'Congress' 'Congress'\n",
      " 'Congress' 'Congress' 'BJP / JDS' 'Congress' 'Congress' 'BJP / JDS'\n",
      " 'Congress' 'Congress' 'BJP / JDS' 'Congress' 'Congress' 'Congress'\n",
      " 'BJP / JDS' 'Congress' 'BJP / JDS' 'Congress' 'Congress' 'BJP / JDS'\n",
      " 'Congress' 'BJP / JDS' 'Other' 'Congress' 'BJP / JDS']\n",
      "-------->Accuracy of RandomForest is 70.76923076923077%.\n"
     ]
    },
    {
     "data": {
      "text/plain": [
       "Counter({'Congress': 41, 'BJP / JDS': 20, 'Other': 4})"
      ]
     },
     "execution_count": 30,
     "metadata": {},
     "output_type": "execute_result"
    }
   ],
   "source": [
    "from sklearn.ensemble import RandomForestClassifier\n",
    "# Create a Random Forest Classifier object\n",
    "clf = RandomForestClassifier(n_estimators=100)\n",
    "\n",
    "# Train the Random Forest Classifier\n",
    "Unemployment_ran = clf.fit(features_train,target_train)\n",
    "\n",
    "# Predict the response for the test dataset\n",
    "target_pred = clf.predict(features_test)\n",
    "print(target_pred)\n",
    "# Calculate the accuracy of the model\n",
    "accuracy = accuracy_score(target_test, target_pred)\n",
    "\n",
    "# Print the accuracy\n",
    "print(f\"-------->Accuracy of RandomForest is {accuracy * 100}%.\")\n",
    "Counter(target_pred)"
   ]
  },
  {
   "cell_type": "code",
   "execution_count": 41,
   "id": "9dad07ba",
   "metadata": {},
   "outputs": [],
   "source": [
    "import pickle\n",
    "pickle_out=open(\"Unemployment_LR.pkl\",\"wb\")\n",
    "pickle.dump(Unemployment_LR,pickle_out)"
   ]
  },
  {
   "cell_type": "code",
   "execution_count": null,
   "id": "3b104c40",
   "metadata": {},
   "outputs": [],
   "source": []
  }
 ],
 "metadata": {
  "kernelspec": {
   "display_name": "Python 3 (ipykernel)",
   "language": "python",
   "name": "python3"
  },
  "language_info": {
   "codemirror_mode": {
    "name": "ipython",
    "version": 3
   },
   "file_extension": ".py",
   "mimetype": "text/x-python",
   "name": "python",
   "nbconvert_exporter": "python",
   "pygments_lexer": "ipython3",
   "version": "3.11.5"
  }
 },
 "nbformat": 4,
 "nbformat_minor": 5
}
